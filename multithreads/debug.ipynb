{
 "cells": [
  {
   "cell_type": "code",
   "execution_count": 1,
   "metadata": {
    "collapsed": true
   },
   "outputs": [],
   "source": [
    "from timeprocess import output_time\n",
    "from genreprocess import output_genre\n",
    "import json\n",
    "import threading\n",
    "from time import ctime,sleep\n",
    "import time\n",
    "import Queue\n",
    "import requests\n",
    "from collections import Counter\n",
    "from flask import Flask"
   ]
  },
  {
   "cell_type": "code",
   "execution_count": null,
   "metadata": {
    "collapsed": true
   },
   "outputs": [],
   "source": []
  },
  {
   "cell_type": "code",
   "execution_count": 2,
   "metadata": {
    "collapsed": true
   },
   "outputs": [],
   "source": [
    "def worker_time(line,q):\n",
    "    return_string=output_time(line)\n",
    "    q.put(return_string)\n",
    "def worker_genre(line,q):\n",
    "    return_string=output_genre(line)\n",
    "    q.put(return_string)\n",
    "def worker_name(line,q):\n",
    "    line = line.lower()\n",
    "    start_name = time.clock()\n",
    "\n",
    "    github_url = 'http://101.200.159.42:9001/vinci/naturelang/v2/metasearch?query='+line\n",
    "    r = requests.post(github_url)\n",
    "    try:\n",
    "        content_list=r.json()['content']\n",
    "        interface_singer_list = []\n",
    "        for i in range(len(content_list)):\n",
    "            interface_singer_list.append(content_list[i]['singer'])\n",
    "        \n",
    "        singer_counts = Counter(interface_singer_list)\n",
    "        top_three = singer_counts.most_common(3)      \n",
    "        synonym_singer = ''\n",
    "        for word in top_three:\n",
    "            if word[0].encode('utf8') in synonym:\n",
    "                synonym_singer = synonym[word[0].encode('utf8')].replace('\\n','')\n",
    "            else:\n",
    "                synonym_singer = 'None'\n",
    "\n",
    "            if word[0].encode('utf8') in line:\n",
    "                if word[0].encode('utf8') in all_singers:\n",
    "                    singer = word[0]\n",
    "                    break\n",
    "            elif synonym_singer.encode('utf8') in line:\n",
    "                if synonym_singer.encode('utf8') in all_singers:\n",
    "                    singer = synonym_singer\n",
    "                    break\n",
    "\n",
    "\n",
    "        tmp={'artist':singer}\n",
    "\n",
    "        q.put(tmp)\n",
    "        end_name= time.clock()    \n",
    "        print \"read: %f s\" % (end_name - start_name)\n",
    "    except:\n",
    "        tmp={'artist':'None'}\n",
    "        q.put(tmp)\n",
    "\n",
    "\n",
    "def worker_name_single(line,p):\n",
    "    github_url='http://101.200.159.42:9001/vinci/naturelang/v2/getsemantic?query='+line\n",
    "    r = requests.post(github_url)\n",
    "    tmp_song='None'\n",
    "    tmp_artist='None'\n",
    "    try:\n",
    "        tmp_artist=r.json()['content']['artist']\n",
    "    except:\n",
    "        pass\n",
    "    try:\n",
    "        tmp_song=r.json()['content']['song']\n",
    "    except:\n",
    "        pass\n",
    "    \n",
    "    if tmp_artist =='None' and tmp_song=='None':\n",
    "        p.put(['None',1])\n",
    "    else:\n",
    "        tmp={\n",
    "            'artist':tmp_artist,\n",
    "            'song':tmp_song\n",
    "        }\n",
    "        p.put([tmp,0])"
   ]
  },
  {
   "cell_type": "code",
   "execution_count": null,
   "metadata": {
    "collapsed": true
   },
   "outputs": [],
   "source": []
  },
  {
   "cell_type": "code",
   "execution_count": 3,
   "metadata": {
    "collapsed": true
   },
   "outputs": [],
   "source": [
    "all_singers=[]\n",
    "singer_file = open(\"/Users/fei_Daniel/Desktop/query理解/多线程/data/xiami_singer.dic\",\"r\")\n",
    "lines = singer_file.readlines()\n",
    "for line in lines:\n",
    "    all_singers.append(line.strip(\"\\n\"))\n",
    "singer_file.close()\n",
    "\n",
    "\n",
    "synonym = {}\n",
    "tup_in_synonym = [] \n",
    "synonym_file = open(\"/Users/fei_Daniel/Desktop/query理解/多线程/synonym.txt\")\n",
    "synonym_pair = synonym_file.readlines()\n",
    "for line in synonym_pair:\n",
    "    tup_in_synonym = line.split('\\t')\n",
    "    synonym[tup_in_synonym[0]] = tup_in_synonym[1]"
   ]
  },
  {
   "cell_type": "code",
   "execution_count": null,
   "metadata": {
    "collapsed": true
   },
   "outputs": [],
   "source": []
  },
  {
   "cell_type": "code",
   "execution_count": 7,
   "metadata": {
    "collapsed": true
   },
   "outputs": [],
   "source": [
    "def test_f(question):\n",
    "        question=question.lower()\n",
    "        q = Queue.Queue()\n",
    "        p = Queue.Queue()\n",
    "\n",
    "        \n",
    "        threads = []\n",
    "        t1 = threading.Thread(target=worker_time(question, q))\n",
    "        threads.append(t1)\n",
    "        t2 = threading.Thread(target=worker_genre(question, q))\n",
    "        threads.append(t2)\n",
    "        t3 = threading.Thread(target=worker_name(question ,q))\n",
    "        threads.append(t3)\n",
    "        t4 = threading.Thread(target=worker_name_single(question, p))\n",
    "        threads.append(t4)\n",
    "\n",
    "\n",
    "\n",
    "        for t in threads:\n",
    "            t.setDaemon(True)\n",
    "            t.start()\n",
    "            t.join()\n",
    "\n",
    "\n",
    "        test=p.get()\n",
    "\n",
    "\n",
    "        if test[1]==1:\n",
    "\n",
    "            result=[]\n",
    "            while not q.empty():\n",
    "                result.append(q.get())\n",
    "\n",
    "            return json.dumps(result,ensure_ascii=False)\n",
    "        elif test[1]==0:\n",
    "            return json.dumps(test[0],ensure_ascii=False)"
   ]
  },
  {
   "cell_type": "code",
   "execution_count": null,
   "metadata": {
    "collapsed": true
   },
   "outputs": [],
   "source": []
  },
  {
   "cell_type": "code",
   "execution_count": null,
   "metadata": {
    "collapsed": true
   },
   "outputs": [],
   "source": []
  },
  {
   "cell_type": "code",
   "execution_count": 10,
   "metadata": {
    "collapsed": false
   },
   "outputs": [],
   "source": [
    "question='来个Rap'\n",
    "print json.dumps(test_f(question),ensure_ascii=False)"
   ]
  },
  {
   "cell_type": "code",
   "execution_count": null,
   "metadata": {
    "collapsed": true
   },
   "outputs": [],
   "source": []
  },
  {
   "cell_type": "code",
   "execution_count": null,
   "metadata": {
    "collapsed": true
   },
   "outputs": [],
   "source": []
  },
  {
   "cell_type": "code",
   "execution_count": null,
   "metadata": {
    "collapsed": true
   },
   "outputs": [],
   "source": []
  },
  {
   "cell_type": "code",
   "execution_count": null,
   "metadata": {
    "collapsed": true
   },
   "outputs": [],
   "source": []
  },
  {
   "cell_type": "code",
   "execution_count": null,
   "metadata": {
    "collapsed": true
   },
   "outputs": [],
   "source": []
  },
  {
   "cell_type": "code",
   "execution_count": null,
   "metadata": {
    "collapsed": true
   },
   "outputs": [],
   "source": []
  },
  {
   "cell_type": "code",
   "execution_count": null,
   "metadata": {
    "collapsed": true
   },
   "outputs": [],
   "source": []
  }
 ],
 "metadata": {
  "kernelspec": {
   "display_name": "Python 2",
   "language": "python",
   "name": "python2"
  },
  "language_info": {
   "codemirror_mode": {
    "name": "ipython",
    "version": 2
   },
   "file_extension": ".py",
   "mimetype": "text/x-python",
   "name": "python",
   "nbconvert_exporter": "python",
   "pygments_lexer": "ipython2",
   "version": "2.7.12"
  }
 },
 "nbformat": 4,
 "nbformat_minor": 2
}
